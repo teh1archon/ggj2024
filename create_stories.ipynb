{
 "cells": [
  {
   "cell_type": "code",
   "execution_count": 56,
   "metadata": {},
   "outputs": [],
   "source": [
    "stories = [\n",
    "    \"In the [adjective,quaint] town of Veggiesdorf, the [noun,air] was [verb,filled] with the [adjective,sweet] scent of [noun,earth] and [noun,spring]. [noun,Farmer] Joe, renowned for his [adjective,green] [noun,thumb], started a [noun,horticulture] experiment. With his [adjective, vibrant] [noun,smile] and [adjective,unwavering] [noun,determination], he [verb,cultivated] a [adjective,colorful] [noun, carrot] of [adjective,crimson], [adjective,blue], and [adjective,gold]. As the [noun,sun] kissed the [adjective, fertile] [noun, soil], Joe's [noun,garden] flourished with a [adjective,wondrous] crunchy [noun,delight]. Locals [verb,marveled] at the [noun,harvest], and [noun,Veggiesdorf] soon became known for its [adjective,diverse] [noun, carrot] [noun,bounty]. Farmer Joe's [noun,success] not only [verb,filled] the [noun,town's plates] but also [verb,sowed] a [noun,sense] of [noun,community] rooted in the [noun,love] for the [adjective,humble] [noun,carrot].\",\n",
    "    \"Ladies and gentlemen, in the pursuit of [noun,personal growth], let us embrace the [adjective,transformative] [noun,power]. Each [noun,challenge] or [noun,triumph] is a [noun, stepping stone] toward our [adjective,highest] [noun,potential]. By [verb,cultivating] [noun,resilience], [noun, self-awareness], and a [noun, hunger] for [noun, knowledge], we [verb, unlock] the [noun, doors] to our own [noun,evolution]. It's not just about [verb,reaching] [noun,goals]; it's about [verb,becoming] the [noun,person] capable of [verb, achieving] them. [verb, Embrace] [noun,discomfort], [verb,learn] from [noun,failures], and [verb,savor] [noun, victories]. [noun,Personal growth] is a [adjective,perpetual] [noun,journey], not a [noun,destination]. Together, let's [verb,foster] a [noun,culture] of [adjective,continuous] [noun,improvement], [verb,empowering] ourselves and others to [verb,thrive] in a world [verb,defined] by [noun,change].\",\n",
    "    \"In the neon-soaked city, I ruled the road, a [noun, lone wolf] on my [noun, chrome steed]. I chased the [noun, adrenaline] high of [adjective, wide] endless roads. The [noun, roar] of my [noun, engine] echoed [noun, rebellion], a [noun, symphony] of [noun, power]. [noun, Dust] trailed behind as I [verb, weaved] through the [noun, concrete jungle], an [noun, outlaw] in the [noun, midnight haze]. The city's [noun, heartbeat] synchronized with the [adjective, rhythmic] [noun, growl] of my [noun, bike], as an [adjective, unspoken] [noun, language] of [noun, freedom]. Each [noun, curve], each [noun, twist] of the [noun, throttle], was a [noun, dance] with [noun, danger]. I was more than a [noun, rider]; I was a [adjective, living] [noun, legend]. Etched my [noun, saga] into the [noun, history] of the [noun, road].\",\n",
    "    \"In the frost-kissed heart of the North, I stand[adjective, resolute] as a[noun, sentinel] of the land.The bitter winds may howl, but my [noun, armor] shields me, [adjective, steadfast] against the threats that lurk in the shadows. I've faced [noun, dragon]s that darken the sky with their ominous wings, and [verb, battled] through [adjective, ancient] crypts [verb, haunted] by the echoes of the past. As a [noun, guardian] I [verb, pledge] to defend the [noun, realm] with [noun, unyielding] determination.\",\n",
    "    \"Ladies and gentlemen, I stand before you today, a [adjective, frustrated] customer, seeking a moment of your attention. I've navigated the labyrinth of customer service, hoping for a resolution that has [verb, eluded] me so far. The [noun, frustration] is real, my friends, but so is the [noun, determination]. We deserve more than [adjective, automated] responses and [adjective, endless] hold music. Our [noun, voice]s matter, our [noun, concerns] are valid. It's time for a [noun, change]! Let's transform [noun, frustration] into [noun, inspiration], turning this challenge into an [noun, opportunity].\",\n",
    "    \"Fellow [noun, citizens], I stand before you not as a polished [noun, politician], but as a [noun, neighbor] who cares deeply about our [noun, community]. Today, I want to be [adjective, honest] with you. Our [noun, town] faces [noun, challenges], big and small. But challenges are just [noun, opportunities] in disguise. Let's be [adjective, real] about what matters � our [noun, schools], our [noun, roads], and our [noun, safety]. It's time to [verb, invest] in the [noun, foundations] that make us [adjective, strong]. I [verb, promise] to [verb, listen], to [verb, learn], and to [verb, work] hard for each one of you. Together, let's build a [noun, future] we can all be [adjective, proud] of � a [noun, community] where every [noun, voice] is [verb, heard], and every [noun, person] [verb, matters]. Thank you for your [noun, trust] and your [noun, commitment] to our [adjective, shared] journey.\"\n",
    "]\n",
    "\n",
    "BadAdjectives = [\n",
    "    \"chad\",\"snail\",\"boiled\",\"rolling\",\"sweaty\",\"toilet\",\"crunchy\",\"moldy\",\"sad\",\"smoking\",\"swine\",\"sick\",\"loud\",\"idiotic\",\"cataclysmic\",\n",
    "    \"wacky\",\"mindless\",\"foolish\",\"salty\",\"stupid\",\"sluggish\",\"miserable\",\"cringe\",\"dull\",\"zombified\",\"awkward\",\"grotesque\",\"OG\",\"absurd\",\n",
    "    \"drunk\",\"sour\",\"bitter\",\"freaky\",\"chicken\",\"screamy\",\"dorktastic\",\"jittery\",\"kooky\",\"stonks\",\"smelly\"\n",
    "]\n",
    "\n",
    "BadVerbs = [\n",
    "    \"despised\",\"masturbated\",\"polluted\",\"infected\",\"spoiled\",\"hated\",\"stained\",\"smacked\",\"ruined\",\"tickled\",\"trolled\",\"poked\",\"sabotaged\",\n",
    "        \"robbed\",\"spat\",\"gambled\",\"struck\",\"destroyed\",\"poisoned\",\"exploited\",\"drank\",\"burned\",\"mummified\",\"flexed\",\"hyped\",\"jinxed\"\n",
    "]\n",
    "\n",
    "BadNouns = [\n",
    "        \"bruh\",\"meme\",\"noob\",\"simp\",\"snot\",\"gorilla\",\"lobster\",\"schlimazel\",\"orangutan\",\"jellyfizzle\",\"wart\",\"goo\",\"fart\",\"noodlehead\",\n",
    "        \"muffinbrain\",\"cupcake\",\"dunghead\",\"dimwit\",\"goober\",\"wimp\",\"dong\",\"fool\",\"cretin\",\"picklehand\",\"schlong\",\"buffoon\",\"numbskull\",\"cuckoo\",\n",
    "        \"tofu\",\"smoothie\",\"waffle\",\"pukestorm\",\"urine\",\"blockhead\",\"vomit\",\"mouth\",\"teeth\",\"picklenose\",\"armpit\",\"gravy\",\"radish\",\"cockroach\",\n",
    "        \"slimeball\",\"vomit\",\"garbage\",\"dirtbag\",\"factory\",\"stench\",\"bullspit\",\"dogsneeze\",\"vermin\",\"catpiss\",\"bastard\",\"snore\",\"deadbeat\",\"dork\",\n",
    "        \"saliva\",\"freak\",\"gasbag\",\"jerk\",\"scumbag\",\"blister\",\"earwax\",\"creme\",\"crybaby\",\"dimple\",\"drool\",\"swag\",\"jibber-jabber\"]\n",
    "\n",
    "bad_words = {\n",
    "    'noun': BadNouns,\n",
    "    'adjective': BadAdjectives,\n",
    "    'verb': BadVerbs\n",
    "}\n",
    "\n",
    "pattern_to_compile = r'\\[\\s*(?P<type>(noun)|(adjective)|(verb)),\\s*(?P<original_word>[a-zA-Z\\'\\-\\s]+)\\]'\n"
   ]
  },
  {
   "cell_type": "code",
   "execution_count": 79,
   "metadata": {},
   "outputs": [],
   "source": [
    "def get_list_of_word_types_from_story(story_template):\n",
    "    import re\n",
    "    pattern = re.compile(pattern_to_compile)\n",
    "    # Extract all matches from story\n",
    "    dicts = [\n",
    "        match.groupdict('type')\n",
    "        for match in pattern.finditer(story_template)\n",
    "    ]\n",
    "    return dicts"
   ]
  },
  {
   "cell_type": "code",
   "execution_count": 66,
   "metadata": {},
   "outputs": [],
   "source": [
    "def create_story_format(original_story):\n",
    "    import re\n",
    "    pattern = re.compile(pattern_to_compile)\n",
    "    return pattern.sub('{}', original_story)"
   ]
  },
  {
   "cell_type": "code",
   "execution_count": 77,
   "metadata": {},
   "outputs": [],
   "source": [
    "def modify_story(original_story):\n",
    "\n",
    "    def need_replace():\n",
    "        import random\n",
    "        percent_of_words_to_replace = 70\n",
    "        return random.randint(0, 101) < percent_of_words_to_replace\n",
    "\n",
    "    def get_replacement(word_type):\n",
    "        import random\n",
    "        return random.choice(bad_words[word_type])\n",
    "\n",
    "    import random\n",
    "    words_to_replace = get_list_of_word_types_from_story(original_story)\n",
    "\n",
    "    new_words_values = [\n",
    "        get_replacement(word_to_replace['type']) if need_replace() else word_to_replace['original_word']\n",
    "        for word_to_replace in words_to_replace\n",
    "    ]\n",
    "\n",
    "    story_format = create_story_format(original_story)\n",
    "    \n",
    "    return story_format.format(*new_words_values)"
   ]
  },
  {
   "cell_type": "code",
   "execution_count": 78,
   "metadata": {},
   "outputs": [
    {
     "name": "stdout",
     "output_type": "stream",
     "text": [
      "In the frost-kissed heart of the North, I standsmelly as adimple of the land.The bitter winds may howl, but my garbage shields me, rolling against the threats that lurk in the shadows. I've faced orangutans that darken the sky with their ominous wings, and despised through zombified crypts smacked by the echoes of the past. As a cuckoo I pledge to defend the realm with vermin determination.\n"
     ]
    }
   ],
   "source": [
    "print(modify_story(stories[-3]))"
   ]
  },
  {
   "cell_type": "code",
   "execution_count": null,
   "metadata": {},
   "outputs": [],
   "source": []
  },
  {
   "cell_type": "code",
   "execution_count": null,
   "metadata": {},
   "outputs": [],
   "source": []
  },
  {
   "cell_type": "code",
   "execution_count": null,
   "metadata": {},
   "outputs": [],
   "source": []
  },
  {
   "cell_type": "code",
   "execution_count": null,
   "metadata": {},
   "outputs": [],
   "source": []
  },
  {
   "cell_type": "code",
   "execution_count": null,
   "metadata": {},
   "outputs": [],
   "source": []
  }
 ],
 "metadata": {
  "kernelspec": {
   "display_name": "base",
   "language": "python",
   "name": "python3"
  },
  "language_info": {
   "codemirror_mode": {
    "name": "ipython",
    "version": 3
   },
   "file_extension": ".py",
   "mimetype": "text/x-python",
   "name": "python",
   "nbconvert_exporter": "python",
   "pygments_lexer": "ipython3",
   "version": "3.9.18"
  }
 },
 "nbformat": 4,
 "nbformat_minor": 2
}
